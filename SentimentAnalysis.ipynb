{
  "cells": [
    {
      "cell_type": "markdown",
      "metadata": {
        "id": "f2S8I2ny-ovS"
      },
      "source": [
        "# NLE Assignment: Sentiment Classification\n",
        "\n",
        "In this assignment, you will be investigating NLP methods for distinguishing positive and negative reviews written about movies.\n",
        "\n",
        "For assessment, you are expected to complete and submit this notebook file.  When answers require code, you may import and use library functions (unless explicitly told otherwise).  All of your own code should be included in the notebook rather than imported from elsewhere.  Written answers should also be included in the notebook.  You should insert as many extra cells as you want and change the type between code and markdown as appropriate.\n",
        "\n",
        "In order to avoid misconduct, you should not talk about the assignment questions with your peers.  If you are not sure what a question is asking you to do or have any other questions, please ask me or one of the Teaching Assistants.\n",
        "\n",
        "Marking guidelines are provided as a separate document.\n",
        "\n",
        "The first few cells contain code to set-up the assignment and bring in some data.   In order to provide unique datasets for analysis by different students, you must enter your candidate number in the following cell.  Otherwise do not change the code in these cells."
      ]
    },
    {
      "cell_type": "code",
      "execution_count": 34,
      "metadata": {
        "id": "1gXQAZas-l9c"
      },
      "outputs": [],
      "source": [
        "candidateno=233814 #this MUST be updated to your candidate number so that you get a unique data sample\n"
      ]
    },
    {
      "cell_type": "code",
      "execution_count": 35,
      "metadata": {
        "id": "nk8JTP88A8vs",
        "colab": {
          "base_uri": "https://localhost:8080/"
        },
        "outputId": "5e80bc6c-046b-4293-8254-cf031af4d0e6"
      },
      "outputs": [
        {
          "output_type": "stream",
          "name": "stderr",
          "text": [
            "[nltk_data] Downloading package punkt to /root/nltk_data...\n",
            "[nltk_data]   Package punkt is already up-to-date!\n",
            "[nltk_data] Downloading package stopwords to /root/nltk_data...\n",
            "[nltk_data]   Package stopwords is already up-to-date!\n",
            "[nltk_data] Downloading package movie_reviews to /root/nltk_data...\n",
            "[nltk_data]   Package movie_reviews is already up-to-date!\n"
          ]
        }
      ],
      "source": [
        "#do not change the code in this cell\n",
        "#preliminary imports\n",
        "\n",
        "#set up nltk\n",
        "import nltk\n",
        "nltk.download('punkt')\n",
        "nltk.download('stopwords')\n",
        "nltk.download('movie_reviews')\n",
        "from nltk.corpus import stopwords\n",
        "from nltk.tokenize import word_tokenize\n",
        "from nltk.corpus import movie_reviews\n",
        "\n",
        "#for setting up training and testing data\n",
        "import random\n",
        "\n",
        "#useful other tools\n",
        "import re\n",
        "import pandas as pd\n",
        "import matplotlib.pyplot as plt\n",
        "%matplotlib inline\n",
        "from itertools import zip_longest\n",
        "from nltk.probability import FreqDist\n",
        "from nltk.classify.api import ClassifierI\n"
      ]
    },
    {
      "cell_type": "code",
      "execution_count": 36,
      "metadata": {
        "id": "BHBkzAccCVaZ"
      },
      "outputs": [],
      "source": [
        "#do not change the code in this cell\n",
        "def split_data(data, ratio=0.7): # when the second argument is not given, it defaults to 0.7\n",
        "    \"\"\"\n",
        "    Given corpus generator and ratio:\n",
        "     - partitions the corpus into training data and test data, where the proportion in train is ratio,\n",
        "\n",
        "    :param data: A corpus generator.\n",
        "    :param ratio: The proportion of training documents (default 0.7)\n",
        "    :return: a pair (tuple) of lists where the first element of the \n",
        "            pair is a list of the training data and the second is a list of the test data.\n",
        "    \"\"\"\n",
        "    \n",
        "    data = list(data)  \n",
        "    n = len(data)  \n",
        "    train_indices = random.sample(range(n), int(n * ratio))          \n",
        "    test_indices = list(set(range(n)) - set(train_indices))    \n",
        "    train = [data[i] for i in train_indices]           \n",
        "    test = [data[i] for i in test_indices]             \n",
        "    return (train, test)                       \n",
        " \n",
        "\n",
        "def get_train_test_data():\n",
        "    \n",
        "    #get ids of positive and negative movie reviews\n",
        "    pos_review_ids=movie_reviews.fileids('pos')\n",
        "    neg_review_ids=movie_reviews.fileids('neg')\n",
        "   \n",
        "    #split positive and negative data into training and testing sets\n",
        "    pos_train_ids, pos_test_ids = split_data(pos_review_ids)\n",
        "    neg_train_ids, neg_test_ids = split_data(neg_review_ids)\n",
        "    #add labels to the data and concatenate\n",
        "    training = [(movie_reviews.words(f),'pos') for f in pos_train_ids]+[(movie_reviews.words(f),'neg') for f in neg_train_ids]\n",
        "    testing = [(movie_reviews.words(f),'pos') for f in pos_test_ids]+[(movie_reviews.words(f),'neg') for f in neg_test_ids]\n",
        "   \n",
        "    return training, testing"
      ]
    },
    {
      "cell_type": "markdown",
      "metadata": {
        "id": "1N3LWwBYICPP"
      },
      "source": [
        "When you have run the cell below, your unique training and testing samples will be stored in `training_data` and `testing_data`"
      ]
    },
    {
      "cell_type": "code",
      "execution_count": 37,
      "metadata": {
        "id": "HJLegkdPFUJA",
        "colab": {
          "base_uri": "https://localhost:8080/"
        },
        "outputId": "76c5c56f-abc3-4af1-b315-a89aa156f284"
      },
      "outputs": [
        {
          "output_type": "stream",
          "name": "stdout",
          "text": [
            "The amount of training data is 1400\n",
            "The amount of testing data is 600\n",
            "The representation of a single data item is below\n",
            "(['\"', 'footloose', '\"', 'has', 'only', 'one', 'goal', ...], 'pos')\n"
          ]
        }
      ],
      "source": [
        "#do not change the code in this cell\n",
        "random.seed(candidateno)\n",
        "training_data,testing_data=get_train_test_data()\n",
        "print(\"The amount of training data is {}\".format(len(training_data)))\n",
        "print(\"The amount of testing data is {}\".format(len(testing_data)))\n",
        "print(\"The representation of a single data item is below\")\n",
        "print(training_data[0])"
      ]
    },
    {
      "cell_type": "markdown",
      "metadata": {
        "id": "VE3bKQbB50Rq"
      },
      "source": [
        "1)  \n",
        "a) **Generate** a list of 10 content words which are representative of the positive reviews in your training data.\n",
        "\n",
        "b) **Generate** a list of 10 content words which are representative of the negative reviews in your training data.\n",
        "\n",
        "c) **Explain** what you have done and why\n",
        "\n",
        "[20\\%]"
      ]
    },
    {
      "cell_type": "code",
      "source": [
        "# separates the data into positive and negative review lists\n",
        "def split_pos_neg(training_data):\n",
        "  pos_data = []\n",
        "  neg_data = []\n",
        "  for review in training_data:\n",
        "    words = review[0]\n",
        "    if review[1] == 'pos':\n",
        "      tup = (words,'pos')\n",
        "      pos_data.append(tup)\n",
        "    if review[1] == 'neg':\n",
        "      tup = (words,'neg')\n",
        "      neg_data.append(tup)\n",
        "  return pos_data, neg_data \n",
        "  \n",
        "pos_data,neg_data = split_pos_neg(training_data)"
      ],
      "metadata": {
        "id": "5pkxK-IxFmGV"
      },
      "execution_count": 38,
      "outputs": []
    },
    {
      "cell_type": "code",
      "source": [
        "from nltk.stem import PorterStemmer\n",
        "stemmer = PorterStemmer()\n",
        "stop_words = stopwords.words('english')\n",
        "import collections\n",
        "from collections import Counter\n",
        "\n",
        "#normalises the positive data by removing non alphabetic characters, removing stopwords and stemming the words\n",
        "def normalise_data(data):\n",
        "  normalised_data = []\n",
        "  for x in data:\n",
        "    words = x[0]\n",
        "    words = [word for word in words if word.isalpha()]\n",
        "    words = [word for word in words if word not in stop_words]\n",
        "    words = [stemmer.stem(word) for word in words]\n",
        "    tup = (words, x[1])\n",
        "    normalised_data.append(tup)\n",
        "  return normalised_data\n",
        "\n",
        "normalisedpos_data = normalise_data(pos_data)\n",
        "normalisedneg_data = normalise_data(neg_data)\n",
        "\n",
        "# produces a frequency distribution for the words in each normalised review\n",
        "def produce_dict(data):\n",
        "  wordfreqdict = {}\n",
        "  for review in data:\n",
        "    words = review[0]\n",
        "    for word in words:\n",
        "      if word not in wordfreqdict.keys():\n",
        "          wordfreqdict[word] = 1\n",
        "      else:\n",
        "          wordfreqdict[word] += 1\n",
        "  return wordfreqdict\n",
        "\n",
        "poswordfreq = produce_dict(normalisedpos_data)\n",
        "negwordfreq = produce_dict(normalisedneg_data)\n"
      ],
      "metadata": {
        "id": "qPGfZCPG6zpE"
      },
      "execution_count": 39,
      "outputs": []
    },
    {
      "cell_type": "code",
      "source": [
        "# This function gets the top words that occur more in positive or negative data\n",
        "def most_frequent_words(dict1,dict2,k):\n",
        "  dict1copy = dict(dict1)\n",
        "  for key in dict1:\n",
        "    if key in dict2:\n",
        "      dict1copy[key] = dict1[key]- dict2[key]\n",
        "  return dict(Counter(dict1copy).most_common(k))       \n",
        "\n",
        "generated_pos_list = most_frequent_words(poswordfreq,negwordfreq,10)\n",
        "generated_neg_list = most_frequent_words(negwordfreq,poswordfreq,10)\n",
        "\n",
        "print(\"positive word list: {}\".format(generated_pos_list))\n",
        "print(\"negative word list: {}\".format(generated_neg_list))\n"
      ],
      "metadata": {
        "id": "8x6buElu6uV5",
        "colab": {
          "base_uri": "https://localhost:8080/"
        },
        "outputId": "90e50f18-78df-4af3-e213-89e2c76e3a47"
      },
      "execution_count": 40,
      "outputs": [
        {
          "output_type": "stream",
          "name": "stdout",
          "text": [
            "positive word list: {'film': 781, 'life': 396, 'also': 319, 'great': 274, 'well': 269, 'perform': 250, 'love': 242, 'charact': 235, 'mani': 234, 'war': 230}\n",
            "negative word list: {'bad': 471, 'movi': 326, 'plot': 218, 'look': 201, 'even': 199, 'bore': 165, 'worst': 147, 'wast': 146, 'script': 144, 'suppos': 144}\n"
          ]
        }
      ]
    },
    {
      "cell_type": "markdown",
      "source": [
        "I separated the data into positive and negative data sets. I then normalised the data by filtering out stopwords and non alphabetic characters and stemming the words. I produced frequency distributions for the positive and negative reviews sets and then defined a most_common_words function to get the 10 words that occur more in one data set than the other which are the most useful words"
      ],
      "metadata": {
        "id": "6NSguXx7YtJH"
      }
    },
    {
      "cell_type": "markdown",
      "metadata": {
        "id": "TApOQE6vND20"
      },
      "source": [
        "2) \n",
        "a) **Use** the lists generated in Q1 to build a **word list classifier** which will classify reviews as being positive or negative.\n",
        "\n",
        "b) **Explain** what you have done.\n",
        "\n",
        "[12.5\\%]\n"
      ]
    },
    {
      "cell_type": "code",
      "execution_count": 41,
      "metadata": {
        "id": "BThDMrcmODJy"
      },
      "outputs": [],
      "source": [
        "from nltk.classify.api import ClassifierI\n",
        "import random\n",
        "\n",
        "class SimpleClassifier(ClassifierI): \n",
        "\n",
        "    def __init__(self, pos, neg): \n",
        "        self._pos = pos \n",
        "        self._neg = neg \n",
        "\n",
        "    def classify(self, words): \n",
        "        score = 0\n",
        "        for word in words:\n",
        "          word = stemmer.stem(word) \n",
        "          if word in self._pos:\n",
        "            score = score + 1\n",
        "          if word in self._neg:\n",
        "            score = score - 1\n",
        "        \n",
        "        if score < 0:\n",
        "          return 'neg'\n",
        "        if score > 0:\n",
        "          return 'pos'\n",
        "        else: random.choice(['pos', 'neg'])\n",
        "\n",
        "    ##we don't actually need to define the classify_many method as it is provided in ClassifierI\n",
        "    #def classify_many(self, docs): \n",
        "    #    return [self.classify(doc) for doc in docs] \n",
        "\n",
        "    def labels(self): \n",
        "        return (\"pos\", \"neg\")\n",
        "\n",
        "classifier = SimpleClassifier(generated_pos_list, generated_neg_list)      "
      ]
    },
    {
      "cell_type": "markdown",
      "metadata": {
        "id": "B6xxvcyr50Rv"
      },
      "source": [
        "I looped through the words that are input to the classifier and checked if that word was in the negative or positive word list. If it was in the positive list the score variable would be incremented and if negative score would be decremented. If score was ultimately above 0 the review would be labelled 'pos', if below it would be 'neg' and if it was 0 then a label would be randomly chosen between pos and neg."
      ]
    },
    {
      "cell_type": "markdown",
      "metadata": {
        "id": "dL1iL9jg50Rv"
      },
      "source": [
        "3)\n",
        "a) **Calculate** the accuracy, precision, recall and F1 score of your classifier.\n",
        "\n",
        "b) Is it reasonable to evaluate the classifier in terms of its accuracy?  **Explain** your answer and give a counter-example (a scenario where it would / would not be reasonable to evaluate the classifier in terms of its accuracy).\n",
        "\n",
        "[20\\%]"
      ]
    },
    {
      "cell_type": "code",
      "execution_count": 42,
      "metadata": {
        "id": "r1PrZnTe50Rw",
        "colab": {
          "base_uri": "https://localhost:8080/"
        },
        "outputId": "c33a8a7a-d283-4e06-c0d4-764d4ffe9f99"
      },
      "outputs": [
        {
          "output_type": "stream",
          "name": "stdout",
          "text": [
            "accuracy: 0.615\n",
            "Precision: 0.603448275862069\n",
            "Recall: 0.8166666666666667\n",
            "f1 score: 0.6940509915014165\n"
          ]
        }
      ],
      "source": [
        "from nltk.metrics.scores import precision, recall, f_measure\n",
        "accuracy = nltk.classify.accuracy(classifier, testing_data)\n",
        "print(\"accuracy: {}\".format(accuracy))\n",
        "\n",
        "reference = collections.defaultdict(set)\n",
        "test = collections.defaultdict(set)\n",
        "\n",
        "# gets the precision recall and f1 score\n",
        "for i, (feats, label) in enumerate(testing_data):\n",
        "    reference[label].add(i)\n",
        "    observed = classifier.classify(feats)\n",
        "    test[observed].add(i)\n",
        "print('Precision:',precision(reference['pos'], test['pos']))\n",
        "print('Recall:',recall(reference['pos'], test['pos']))\n",
        "print('f1 score:',f_measure(reference['pos'], test['pos']))"
      ]
    },
    {
      "cell_type": "markdown",
      "metadata": {
        "id": "0gHYwj0i50Ry"
      },
      "source": [
        "It is reasonable to evaluate this classifier by accuracy because the training data is well balanced; the number of positive and negative reviews used to train the classifier are the same. It would not be reasonable for something like spam email classification because a classifier could predict all emails to not be spam and get a high accuracy."
      ]
    },
    {
      "cell_type": "markdown",
      "metadata": {
        "id": "LIS9UpmJNEAp"
      },
      "source": [
        "4) \n",
        "a)  **Construct** a Naive Bayes classifier (e.g., from NLTK).\n",
        "\n",
        "b)  **Compare** the performance of your word list classifier with the Naive Bayes classifier.  **Discuss** your results. \n",
        "\n",
        "[12.5\\%]"
      ]
    },
    {
      "cell_type": "code",
      "execution_count": 43,
      "metadata": {
        "id": "hG4DSeqD50Rz"
      },
      "outputs": [],
      "source": [
        "from nltk.classify import NaiveBayesClassifier\n",
        "\n",
        "# constructs and train a Naive Bayes classifier\n",
        "def word_feats(words):\n",
        "    return dict([(word, True) for word in words if word not in stop_words])\n",
        "pos_feats = [(word_feats(f[0]), 'pos') for f in normalisedpos_data ]\n",
        "neg_feats = [(word_feats(f[0]), 'neg') for f in normalisedneg_data ]\n",
        "testing_feats = [(word_feats(f[0]), f[1]) for f in testing_data]\n",
        "trainfeats = pos_feats + neg_feats\n",
        "nbclassifier = NaiveBayesClassifier.train(trainfeats)    "
      ]
    },
    {
      "cell_type": "code",
      "execution_count": 44,
      "metadata": {
        "id": "56_oD8ET50Rz",
        "colab": {
          "base_uri": "https://localhost:8080/"
        },
        "outputId": "45034009-121d-4088-a8d5-a0cb2bfd668b"
      },
      "outputs": [
        {
          "output_type": "stream",
          "name": "stdout",
          "text": [
            "naive bayes classifier accuracy : 0.6966666666666667\n"
          ]
        }
      ],
      "source": [
        "print(\"naive bayes classifier accuracy :\",nltk.classify.accuracy(nbclassifier, testing_feats))"
      ]
    },
    {
      "cell_type": "markdown",
      "metadata": {
        "id": "xfuYer9U50Rz"
      },
      "source": [
        "The accuracy of the naive bayes classifier is higher than the accuracy of the word list and as the data is balances accuracy is a good measure of the performance of a classifier on this data"
      ]
    },
    {
      "cell_type": "markdown",
      "metadata": {
        "id": "LGDXaVDqOSfY"
      },
      "source": [
        "5) \n",
        "a) Design and **carry out an experiment** into the impact of the **length of the wordlists** on the wordlist classifier.  Make sure you **describe** design decisions in your experiment, include a **graph** of your results and **discuss** your conclusions. \n",
        "\n",
        "b) Would you **recommend** a wordlist classifier or a Naive Bayes classifier for future work in this area?  **Justify** your answer.\n",
        "\n",
        "[25\\%]\n"
      ]
    },
    {
      "cell_type": "markdown",
      "metadata": {
        "id": "5PVBBPhh50R0"
      },
      "source": [
        "I used 10 list lengths in my experiment from 5 to 50 in increments of 5. Accuracy is the only measure used because the classes are balanced. From my results i have found that my graph has bimodial distribution and the two modes are 10 and 30 words. Less than 10 words is suboptimal and so is more than 30 words as the accuracy goes down."
      ]
    },
    {
      "cell_type": "code",
      "execution_count": 45,
      "metadata": {
        "id": "9tBhqZtw50R1"
      },
      "outputs": [],
      "source": [
        "posi_data,nega_data = split_pos_neg(training_data)\n",
        "train_train_pos = posi_data[:490] \n",
        "train_test = posi_data[-210:] + nega_data[-210:]\n",
        "train_train_neg = nega_data[:490]\n",
        "train_train_pos_n = normalise_data(train_train_pos)\n",
        "train_train_neg_n = normalise_data(train_train_neg)"
      ]
    },
    {
      "cell_type": "code",
      "execution_count": 46,
      "metadata": {
        "id": "J1ozKYMa50R1",
        "colab": {
          "base_uri": "https://localhost:8080/"
        },
        "outputId": "b82b71b8-f492-4f26-8ee7-992ea35eb8ec"
      },
      "outputs": [
        {
          "output_type": "stream",
          "name": "stdout",
          "text": [
            "0.5785714285714286\n",
            "0.6309523809523809\n",
            "0.6214285714285714\n",
            "0.6142857142857143\n",
            "0.6142857142857143\n",
            "0.6309523809523809\n",
            "0.6166666666666667\n",
            "0.6023809523809524\n",
            "0.5904761904761905\n",
            "0.6\n"
          ]
        }
      ],
      "source": [
        "pos_dict = produce_dict(train_train_pos_n)\n",
        "neg_dict = produce_dict(train_train_neg_n)\n",
        "\n",
        "\n",
        "pos_train_list1 = most_frequent_words(pos_dict,neg_dict,5)\n",
        "pos_train_list2 = most_frequent_words(pos_dict,neg_dict,10)\n",
        "pos_train_list3 = most_frequent_words(pos_dict,neg_dict,15)\n",
        "pos_train_list4 = most_frequent_words(pos_dict,neg_dict,20)\n",
        "pos_train_list5 = most_frequent_words(pos_dict,neg_dict,25)\n",
        "pos_train_list6 = most_frequent_words(pos_dict,neg_dict,30)\n",
        "pos_train_list7 = most_frequent_words(pos_dict,neg_dict,35)\n",
        "pos_train_list8 = most_frequent_words(pos_dict,neg_dict,40)\n",
        "pos_train_list9 = most_frequent_words(pos_dict,neg_dict,45)\n",
        "pos_train_list10 = most_frequent_words(pos_dict,neg_dict,50)\n",
        "\n",
        "neg_train_list1 = most_frequent_words(neg_dict,pos_dict,5)\n",
        "neg_train_list2 = most_frequent_words(neg_dict,pos_dict,10)\n",
        "neg_train_list3 = most_frequent_words(neg_dict,pos_dict,15)\n",
        "neg_train_list4 = most_frequent_words(neg_dict,pos_dict,20)\n",
        "neg_train_list5 = most_frequent_words(neg_dict,pos_dict,25)\n",
        "neg_train_list6 = most_frequent_words(neg_dict,pos_dict,30)\n",
        "neg_train_list7 = most_frequent_words(neg_dict,pos_dict,35)\n",
        "neg_train_list8 = most_frequent_words(neg_dict,pos_dict,40)\n",
        "neg_train_list9 = most_frequent_words(neg_dict,pos_dict,45)\n",
        "neg_train_list10 = most_frequent_words(neg_dict,pos_dict,50)\n",
        "\n",
        "wlclassifier1 = SimpleClassifier(pos_train_list1,neg_train_list1)\n",
        "wlclassifier2 = SimpleClassifier(pos_train_list2,neg_train_list2)\n",
        "wlclassifier3 = SimpleClassifier(pos_train_list3,neg_train_list3)\n",
        "wlclassifier4 = SimpleClassifier(pos_train_list4,neg_train_list4)\n",
        "wlclassifier5 = SimpleClassifier(pos_train_list5,neg_train_list5)\n",
        "wlclassifier6 = SimpleClassifier(pos_train_list6,neg_train_list6)\n",
        "wlclassifier7 = SimpleClassifier(pos_train_list7,neg_train_list7)\n",
        "wlclassifier8 = SimpleClassifier(pos_train_list8,neg_train_list8)\n",
        "wlclassifier9 = SimpleClassifier(pos_train_list9,neg_train_list9)\n",
        "wlclassifier10 = SimpleClassifier(pos_train_list10,neg_train_list10)\n",
        "\n",
        "wlaccuracy1 = nltk.classify.accuracy(wlclassifier1, train_test)\n",
        "wlaccuracy2 = nltk.classify.accuracy(wlclassifier2, train_test)\n",
        "wlaccuracy3 = nltk.classify.accuracy(wlclassifier3, train_test)\n",
        "wlaccuracy4 = nltk.classify.accuracy(wlclassifier4, train_test)\n",
        "wlaccuracy5 = nltk.classify.accuracy(wlclassifier5, train_test)\n",
        "wlaccuracy6 = nltk.classify.accuracy(wlclassifier6, train_test)\n",
        "wlaccuracy7 = nltk.classify.accuracy(wlclassifier7, train_test)\n",
        "wlaccuracy8 = nltk.classify.accuracy(wlclassifier8, train_test)\n",
        "wlaccuracy9 = nltk.classify.accuracy(wlclassifier9, train_test)\n",
        "wlaccuracy10 = nltk.classify.accuracy(wlclassifier10, train_test)\n",
        "\n",
        "print(wlaccuracy1)\n",
        "print(wlaccuracy2)\n",
        "print(wlaccuracy3)\n",
        "print(wlaccuracy4)\n",
        "print(wlaccuracy5)\n",
        "print(wlaccuracy6)\n",
        "print(wlaccuracy7)\n",
        "print(wlaccuracy8)\n",
        "print(wlaccuracy9)\n",
        "print(wlaccuracy10)"
      ]
    },
    {
      "cell_type": "code",
      "execution_count": 47,
      "metadata": {
        "id": "vzN_HIuC50R1",
        "colab": {
          "base_uri": "https://localhost:8080/",
          "height": 295
        },
        "outputId": "bbcca181-65db-4b26-85ae-5ad0d25e6650"
      },
      "outputs": [
        {
          "output_type": "display_data",
          "data": {
            "text/plain": [
              "<Figure size 432x288 with 1 Axes>"
            ],
            "image/png": "[encoded data removed]"
          },
          "metadata": {
            "needs_background": "light"
          }
        }
      ],
      "source": [
        "import matplotlib.pyplot as plt\n",
        "x = [5,10,15,20,25,30,35,40,45,50]\n",
        "y = [0.579,0.631,0.621,0.614,0.614,0.631,0.617,0.602,0.590,0.6]\n",
        "\n",
        "plt.plot(x,y)\n",
        "plt.title(\"impact of word list length\")\n",
        "plt.xlabel(\"word list length\")\n",
        "plt.ylabel(\"accuracy\")\n",
        "plt.show()"
      ]
    },
    {
      "cell_type": "markdown",
      "metadata": {
        "id": "nYZVd15L50R2"
      },
      "source": [
        "I would recommend the naive bayes classifier over the word list classifier because even at the optimal length of 10 words the naive bayes outperforms the word list classifier on accuracy"
      ]
    },
    {
      "cell_type": "code",
      "execution_count": 48,
      "metadata": {
        "colab": {
          "base_uri": "https://localhost:8080/",
          "height": 236
        },
        "id": "34rdlS_iPov6",
        "outputId": "3d8480a6-0e33-4b75-d67f-3622e1bf1c6c"
      },
      "outputs": [
        {
          "output_type": "error",
          "ename": "FileNotFoundError",
          "evalue": "ignored",
          "traceback": [
            "\u001b[0;31m---------------------------------------------------------------------------\u001b[0m",
            "\u001b[0;31mFileNotFoundError\u001b[0m                         Traceback (most recent call last)",
            "\u001b[0;32m<ipython-input-48-85c2af388216>\u001b[0m in \u001b[0;36m<module>\u001b[0;34m\u001b[0m\n\u001b[1;32m      9\u001b[0m \u001b[0mquestion_count\u001b[0m\u001b[0;34m=\u001b[0m\u001b[0;36m437\u001b[0m\u001b[0;34m\u001b[0m\u001b[0;34m\u001b[0m\u001b[0m\n\u001b[1;32m     10\u001b[0m \u001b[0;34m\u001b[0m\u001b[0m\n\u001b[0;32m---> 11\u001b[0;31m \u001b[0;32mwith\u001b[0m \u001b[0mio\u001b[0m\u001b[0;34m.\u001b[0m\u001b[0mopen\u001b[0m\u001b[0;34m(\u001b[0m\u001b[0mfilepath\u001b[0m\u001b[0;34m,\u001b[0m \u001b[0;34m'r'\u001b[0m\u001b[0;34m,\u001b[0m \u001b[0mencoding\u001b[0m\u001b[0;34m=\u001b[0m\u001b[0;34m'utf-8'\u001b[0m\u001b[0;34m)\u001b[0m \u001b[0;32mas\u001b[0m \u001b[0mf\u001b[0m\u001b[0;34m:\u001b[0m\u001b[0;34m\u001b[0m\u001b[0;34m\u001b[0m\u001b[0m\n\u001b[0m\u001b[1;32m     12\u001b[0m     \u001b[0mnb\u001b[0m \u001b[0;34m=\u001b[0m \u001b[0mcurrent\u001b[0m\u001b[0;34m.\u001b[0m\u001b[0mread\u001b[0m\u001b[0;34m(\u001b[0m\u001b[0mf\u001b[0m\u001b[0;34m,\u001b[0m \u001b[0;34m'json'\u001b[0m\u001b[0;34m)\u001b[0m\u001b[0;34m\u001b[0m\u001b[0;34m\u001b[0m\u001b[0m\n\u001b[1;32m     13\u001b[0m \u001b[0;34m\u001b[0m\u001b[0m\n",
            "\u001b[0;31mFileNotFoundError\u001b[0m: [Errno 2] No such file or directory: 'NLassignment2022.ipynb'"
          ]
        }
      ],
      "source": [
        "##This code will word count all of the markdown cells in the notebook saved at filepath\n",
        "##Running it before providing any answers shows that the questions have a word count of 437\n",
        "\n",
        "import io\n",
        "from nbformat import current\n",
        "\n",
        "#filepath=\"/content/drive/My Drive/NLE Notebooks/assessment/assignment1.ipynb\"\n",
        "filepath=\"NLassignment2022.ipynb\"\n",
        "question_count=437\n",
        "\n",
        "with io.open(filepath, 'r', encoding='utf-8') as f:\n",
        "    nb = current.read(f, 'json')\n",
        "\n",
        "word_count = 0\n",
        "for cell in nb.worksheets[0].cells:\n",
        "    if cell.cell_type == \"markdown\":\n",
        "        word_count += len(cell['source'].replace('#', '').lstrip().split(' '))\n",
        "print(\"Submission length is {}\".format(word_count-question_count))"
      ]
    },
    {
      "cell_type": "code",
      "execution_count": null,
      "metadata": {
        "id": "PtqCcG6wPsmf"
      },
      "outputs": [],
      "source": []
    }
  ],
  "metadata": {
    "colab": {
      "provenance": [],
      "collapsed_sections": []
    },
    "kernelspec": {
      "display_name": "Python 3",
      "language": "python",
      "name": "python3"
    },
    "language_info": {
      "codemirror_mode": {
        "name": "ipython",
        "version": 3
      },
      "file_extension": ".py",
      "mimetype": "text/x-python",
      "name": "python",
      "nbconvert_exporter": "python",
      "pygments_lexer": "ipython3",
      "version": "3.7.4"
    }
  },
  "nbformat": 4,
  "nbformat_minor": 0
}